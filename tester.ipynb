{
 "cells": [
  {
   "cell_type": "code",
   "execution_count": 1,
   "metadata": {},
   "outputs": [
    {
     "data": {
      "text/plain": [
       "'The document delves into the realm of knowledge graphs, exploring various approaches and applications in different domains such as social media, healthcare, education, and information retrieval. It discusses the use of knowledge graph embeddings, graph convolution networks, and multi-modal techniques for tasks like rumor detection, event memory, and relation extraction. The paper also covers advancements in knowledge fusion, hierarchical embeddings, and multi-hop reasoning over knowledge graphs. Furthermore, it addresses challenges and opportunities associated with knowledge graphs, emphasizing the importance of structured data representation for enhancing information retrieval and decision-making processes. Overall, the document provides a comprehensive overview of the evolving landscape of knowledge graphs, highlighting their significance in organizing and leveraging vast amounts of interconnected information for diverse purposes across various fields.'"
      ]
     },
     "execution_count": 1,
     "metadata": {},
     "output_type": "execute_result"
    }
   ],
   "source": [
    "import src.AI_methods as AI\n",
    "\n",
    "AI.summarization('./example_doc',\"Knowledge Graphs: Opportunities and Challenges\")"
   ]
  },
  {
   "cell_type": "code",
   "execution_count": 3,
   "metadata": {},
   "outputs": [],
   "source": [
    "result = AI.generate_fuzzy_description('./example_doc',\"Knowledge Graphs: Opportunities and Challenges\")"
   ]
  },
  {
   "cell_type": "code",
   "execution_count": 4,
   "metadata": {},
   "outputs": [
    {
     "name": "stdout",
     "output_type": "stream",
     "text": [
      "Search prompts that this document would be a good match for:\n",
      "1. Knowledge graphs in drug discovery applications\n",
      "2. Entity alignment approaches in cross-lingual knowledge graphs\n",
      "3. Fake news detection using knowledge graph-based approaches\n",
      "4. Temporal knowledge graph completion using box embeddings\n",
      "5. Multi-criteria recommender systems in artificial intelligence\n"
     ]
    }
   ],
   "source": [
    "print(result)"
   ]
  },
  {
   "cell_type": "code",
   "execution_count": null,
   "metadata": {},
   "outputs": [],
   "source": []
  }
 ],
 "metadata": {
  "kernelspec": {
   "display_name": "Python 3",
   "language": "python",
   "name": "python3"
  },
  "language_info": {
   "codemirror_mode": {
    "name": "ipython",
    "version": 3
   },
   "file_extension": ".py",
   "mimetype": "text/x-python",
   "name": "python",
   "nbconvert_exporter": "python",
   "pygments_lexer": "ipython3",
   "version": "3.12.0"
  }
 },
 "nbformat": 4,
 "nbformat_minor": 2
}
