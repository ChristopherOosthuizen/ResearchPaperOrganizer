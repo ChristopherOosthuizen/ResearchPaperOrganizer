{
 "cells": [
  {
   "cell_type": "code",
   "execution_count": 1,
   "metadata": {},
   "outputs": [
    {
     "data": {
      "text/plain": [
       "'The document \"Knowledge Graphs: Opportunities and Challenges\" provides a comprehensive overview of the significance, opportunities, and challenges associated with knowledge graphs in the context of artificial intelligence (AI) and big data. Knowledge graphs are highlighted as essential tools for organizing and representing vast amounts of knowledge effectively. They are described as graph data structures that accumulate and convey real-world knowledge through entities and relationships.\\n\\nThe paper emphasizes the growing importance of knowledge graphs in academia and industry due to their ability to represent complex information and enhance AI systems\\' capabilities. It discusses the opportunities presented by knowledge graphs, such as improving AI system performance and their potential applications across various fields like recommender systems, question answering, and information retrieval.\\n\\nMoreover, the document delves into the technical challenges faced in the development of knowledge graphs, including issues related to knowledge acquisition, graph embeddings, completion, fusion, and reasoning. Despite the opportunities knowledge graphs offer, the paper acknowledges the existing limitations in integrating knowledge from diverse sources into these graphs.\\n\\nOverall, the document aims to shed light on the current state, future research directions, and the development of knowledge graphs by examining both their opportunities and challenges in detail.'"
      ]
     },
     "execution_count": 1,
     "metadata": {},
     "output_type": "execute_result"
    }
   ],
   "source": [
    "import src.AI_methods as AI\n",
    "\n",
    "AI.summarization('./example_doc',\"Knowledge Graphs: Opportunities and Challenges\")"
   ]
  },
  {
   "cell_type": "code",
   "execution_count": null,
   "metadata": {},
   "outputs": [],
   "source": []
  },
  {
   "cell_type": "code",
   "execution_count": 2,
   "metadata": {},
   "outputs": [],
   "source": [
    "result = AI.generate_fuzzy_description('./example_doc',\"Knowledge Graphs: Opportunities and Challenges\")"
   ]
  },
  {
   "cell_type": "code",
   "execution_count": 3,
   "metadata": {},
   "outputs": [
    {
     "name": "stdout",
     "output_type": "stream",
     "text": [
      "Knowledge Graphs\n",
      "Opportunities and Challenges\n",
      "AI systems and knowledge graphs\n",
      "Applications of knowledge graphs\n",
      "Technical challenges in knowledge graphs\n"
     ]
    }
   ],
   "source": [
    "print(result)"
   ]
  },
  {
   "cell_type": "code",
   "execution_count": 1,
   "metadata": {},
   "outputs": [
    {
     "data": {
      "text/plain": [
       "'Knowledge Graphs: Opportunities and Challenges'"
      ]
     },
     "execution_count": 1,
     "metadata": {},
     "output_type": "execute_result"
    }
   ],
   "source": [
    "import src.file_reader as fr \n",
    "fr.get_title('https://arxiv.org/abs/2303.13948')"
   ]
  },
  {
   "cell_type": "code",
   "execution_count": 1,
   "metadata": {},
   "outputs": [
    {
     "ename": "ValueError",
     "evalue": "Directory ./Knowledge_Graphs:_Opportunities_and_Challenges/content.pdf does not exist.",
     "output_type": "error",
     "traceback": [
      "\u001b[0;31m---------------------------------------------------------------------------\u001b[0m",
      "\u001b[0;31mValueError\u001b[0m                                Traceback (most recent call last)",
      "Cell \u001b[0;32mIn[1], line 3\u001b[0m\n\u001b[1;32m      1\u001b[0m \u001b[38;5;28;01mimport\u001b[39;00m \u001b[38;5;21;01msrc\u001b[39;00m\u001b[38;5;21;01m.\u001b[39;00m\u001b[38;5;21;01mfile_creation\u001b[39;00m \u001b[38;5;28;01mas\u001b[39;00m \u001b[38;5;21;01mfc\u001b[39;00m\n\u001b[0;32m----> 3\u001b[0m \u001b[43mfc\u001b[49m\u001b[38;5;241;43m.\u001b[39;49m\u001b[43mmake_folder\u001b[49m\u001b[43m(\u001b[49m\u001b[38;5;124;43m'\u001b[39;49m\u001b[38;5;124;43mhttps://arxiv.org/abs/2303.13948\u001b[39;49m\u001b[38;5;124;43m'\u001b[39;49m\u001b[43m)\u001b[49m\n",
      "File \u001b[0;32m~/projects/ai_paper_orginizer/src/file_creation.py:37\u001b[0m, in \u001b[0;36mmake_folder\u001b[0;34m(url)\u001b[0m\n\u001b[1;32m     34\u001b[0m summary \u001b[38;5;241m=\u001b[39m summarization(folder_path, title)\n\u001b[1;32m     36\u001b[0m \u001b[38;5;66;03m# Get fuzzy descriptors of the downloaded content\u001b[39;00m\n\u001b[0;32m---> 37\u001b[0m fuzzy_descriptors \u001b[38;5;241m=\u001b[39m \u001b[43mgenerate_fuzzy_description\u001b[49m\u001b[43m(\u001b[49m\u001b[43mfile_path\u001b[49m\u001b[43m,\u001b[49m\u001b[43m \u001b[49m\u001b[43mtitle\u001b[49m\u001b[43m)\u001b[49m\n\u001b[1;32m     39\u001b[0m \u001b[38;5;66;03m# Create individual files for the summary and fuzzy descriptors\u001b[39;00m\n\u001b[1;32m     40\u001b[0m create_file(os\u001b[38;5;241m.\u001b[39mpath\u001b[38;5;241m.\u001b[39mjoin(folder_path, \u001b[38;5;124m'\u001b[39m\u001b[38;5;124msummary.txt\u001b[39m\u001b[38;5;124m'\u001b[39m), summary)\n",
      "File \u001b[0;32m~/projects/ai_paper_orginizer/src/AI_methods.py:30\u001b[0m, in \u001b[0;36mgenerate_fuzzy_description\u001b[0;34m(doc, name)\u001b[0m\n\u001b[1;32m     28\u001b[0m key \u001b[38;5;241m=\u001b[39m \u001b[38;5;28mopen\u001b[39m(\u001b[38;5;124m\"\u001b[39m\u001b[38;5;124mopenaikey\u001b[39m\u001b[38;5;124m\"\u001b[39m,\u001b[38;5;124m\"\u001b[39m\u001b[38;5;124mr\u001b[39m\u001b[38;5;124m\"\u001b[39m)\u001b[38;5;241m.\u001b[39mread()\n\u001b[1;32m     29\u001b[0m os\u001b[38;5;241m.\u001b[39menviron[\u001b[38;5;124m\"\u001b[39m\u001b[38;5;124mOPENAI_API_KEY\u001b[39m\u001b[38;5;124m\"\u001b[39m] \u001b[38;5;241m=\u001b[39m key\n\u001b[0;32m---> 30\u001b[0m documents \u001b[38;5;241m=\u001b[39m \u001b[43mSimpleDirectoryReader\u001b[49m\u001b[43m(\u001b[49m\u001b[43mdoc\u001b[49m\u001b[43m)\u001b[49m\u001b[38;5;241m.\u001b[39mload_data()\n\u001b[1;32m     31\u001b[0m index \u001b[38;5;241m=\u001b[39m VectorStoreIndex\u001b[38;5;241m.\u001b[39mfrom_documents(documents)\n\u001b[1;32m     32\u001b[0m query_engine \u001b[38;5;241m=\u001b[39m index\u001b[38;5;241m.\u001b[39mas_query_engine()\n",
      "File \u001b[0;32m/Library/Frameworks/Python.framework/Versions/3.12/lib/python3.12/site-packages/llama_index/core/readers/file/base.py:255\u001b[0m, in \u001b[0;36mSimpleDirectoryReader.__init__\u001b[0;34m(self, input_dir, input_files, exclude, exclude_hidden, errors, recursive, encoding, filename_as_id, required_exts, file_extractor, num_files_limit, file_metadata, raise_on_error, fs)\u001b[0m\n\u001b[1;32m    253\u001b[0m \u001b[38;5;28;01melif\u001b[39;00m input_dir:\n\u001b[1;32m    254\u001b[0m     \u001b[38;5;28;01mif\u001b[39;00m \u001b[38;5;129;01mnot\u001b[39;00m \u001b[38;5;28mself\u001b[39m\u001b[38;5;241m.\u001b[39mfs\u001b[38;5;241m.\u001b[39misdir(input_dir):\n\u001b[0;32m--> 255\u001b[0m         \u001b[38;5;28;01mraise\u001b[39;00m \u001b[38;5;167;01mValueError\u001b[39;00m(\u001b[38;5;124mf\u001b[39m\u001b[38;5;124m\"\u001b[39m\u001b[38;5;124mDirectory \u001b[39m\u001b[38;5;132;01m{\u001b[39;00minput_dir\u001b[38;5;132;01m}\u001b[39;00m\u001b[38;5;124m does not exist.\u001b[39m\u001b[38;5;124m\"\u001b[39m)\n\u001b[1;32m    256\u001b[0m     \u001b[38;5;28mself\u001b[39m\u001b[38;5;241m.\u001b[39minput_dir \u001b[38;5;241m=\u001b[39m _Path(input_dir)\n\u001b[1;32m    257\u001b[0m     \u001b[38;5;28mself\u001b[39m\u001b[38;5;241m.\u001b[39mexclude \u001b[38;5;241m=\u001b[39m exclude\n",
      "\u001b[0;31mValueError\u001b[0m: Directory ./Knowledge_Graphs:_Opportunities_and_Challenges/content.pdf does not exist."
     ]
    }
   ],
   "source": [
    "import src.file_creation as fc\n",
    "\n",
    "fc.make_folder('https://arxiv.org/abs/2303.13948')"
   ]
  },
  {
   "cell_type": "code",
   "execution_count": null,
   "metadata": {},
   "outputs": [],
   "source": []
  }
 ],
 "metadata": {
  "kernelspec": {
   "display_name": "Python 3",
   "language": "python",
   "name": "python3"
  },
  "language_info": {
   "codemirror_mode": {
    "name": "ipython",
    "version": 3
   },
   "file_extension": ".py",
   "mimetype": "text/x-python",
   "name": "python",
   "nbconvert_exporter": "python",
   "pygments_lexer": "ipython3",
   "version": "3.12.0"
  }
 },
 "nbformat": 4,
 "nbformat_minor": 2
}
