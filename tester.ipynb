{
 "cells": [
  {
   "cell_type": "code",
   "execution_count": 1,
   "metadata": {},
   "outputs": [
    {
     "data": {
      "text/plain": [
       "'The document \"Knowledge Graphs: Opportunities and Challenges\" provides a comprehensive overview of the significance, opportunities, and challenges associated with knowledge graphs in the context of artificial intelligence (AI) and big data. Knowledge graphs are highlighted as essential tools for organizing and representing vast amounts of knowledge effectively. They are described as graph data structures that accumulate and convey real-world knowledge through entities and relationships.\\n\\nThe paper emphasizes the growing importance of knowledge graphs in academia and industry due to their ability to represent complex information and enhance AI systems\\' capabilities. It discusses the opportunities presented by knowledge graphs, such as improving AI system performance and their potential applications across various fields like recommender systems, question answering, and information retrieval.\\n\\nMoreover, the document delves into the technical challenges faced in the development of knowledge graphs, including issues related to knowledge acquisition, graph embeddings, completion, fusion, and reasoning. Despite the opportunities knowledge graphs offer, the paper acknowledges the existing limitations in integrating knowledge from diverse sources into these graphs.\\n\\nOverall, the document aims to shed light on the current state, future research directions, and the development of knowledge graphs by examining both their opportunities and challenges in detail.'"
      ]
     },
     "execution_count": 1,
     "metadata": {},
     "output_type": "execute_result"
    }
   ],
   "source": [
    "import src.AI_methods as AI\n",
    "\n",
    "AI.summarization('./example_doc',\"Knowledge Graphs: Opportunities and Challenges\")"
   ]
  },
  {
   "cell_type": "code",
   "execution_count": null,
   "metadata": {},
   "outputs": [],
   "source": []
  },
  {
   "cell_type": "code",
   "execution_count": 2,
   "metadata": {},
   "outputs": [],
   "source": [
    "result = AI.generate_fuzzy_description('./example_doc',\"Knowledge Graphs: Opportunities and Challenges\")"
   ]
  },
  {
   "cell_type": "code",
   "execution_count": 3,
   "metadata": {},
   "outputs": [
    {
     "name": "stdout",
     "output_type": "stream",
     "text": [
      "Knowledge Graphs\n",
      "Opportunities and Challenges\n",
      "AI systems and knowledge graphs\n",
      "Applications of knowledge graphs\n",
      "Technical challenges in knowledge graphs\n"
     ]
    }
   ],
   "source": [
    "print(result)"
   ]
  },
  {
   "cell_type": "code",
   "execution_count": 1,
   "metadata": {},
   "outputs": [
    {
     "data": {
      "text/plain": [
       "'Knowledge Graphs: Opportunities and Challenges'"
      ]
     },
     "execution_count": 1,
     "metadata": {},
     "output_type": "execute_result"
    }
   ],
   "source": [
    "import src.file_reader as fr \n",
    "fr.get_title('https://arxiv.org/abs/2303.13948')"
   ]
  },
  {
   "cell_type": "code",
   "execution_count": 1,
   "metadata": {},
   "outputs": [],
   "source": [
    "import src.file_creation as fc\n",
    "\n",
    "fc.make_folder('https://arxiv.org/abs/2303.13948')"
   ]
  },
  {
   "cell_type": "code",
   "execution_count": null,
   "metadata": {},
   "outputs": [],
   "source": []
  }
 ],
 "metadata": {
  "kernelspec": {
   "display_name": "Python 3",
   "language": "python",
   "name": "python3"
  },
  "language_info": {
   "codemirror_mode": {
    "name": "ipython",
    "version": 3
   },
   "file_extension": ".py",
   "mimetype": "text/x-python",
   "name": "python",
   "nbconvert_exporter": "python",
   "pygments_lexer": "ipython3",
   "version": "3.12.0"
  }
 },
 "nbformat": 4,
 "nbformat_minor": 2
}
